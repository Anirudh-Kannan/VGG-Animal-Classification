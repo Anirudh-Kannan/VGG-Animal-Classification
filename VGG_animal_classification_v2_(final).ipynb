{
  "nbformat": 4,
  "nbformat_minor": 0,
  "metadata": {
    "colab": {
      "name": "VGG animal classification v2 (final).ipynb",
      "version": "0.3.2",
      "provenance": [],
      "collapsed_sections": [],
      "include_colab_link": true
    },
    "kernelspec": {
      "name": "python3",
      "display_name": "Python 3"
    },
    "accelerator": "GPU"
  },
  "cells": [
    {
      "cell_type": "markdown",
      "metadata": {
        "id": "view-in-github",
        "colab_type": "text"
      },
      "source": [
        "<a href=\"https://colab.research.google.com/github/Anirudh-Kannan/VGG-Animal-Classification/blob/master/VGG_animal_classification_v2_(final).ipynb\" target=\"_parent\"><img src=\"https://colab.research.google.com/assets/colab-badge.svg\" alt=\"Open In Colab\"/></a>"
      ]
    },
    {
      "cell_type": "code",
      "metadata": {
        "id": "ZrRqpDeFdW0b",
        "colab_type": "code",
        "outputId": "47529a32-4cd7-464f-d45a-37d3a2117499",
        "colab": {
          "base_uri": "https://localhost:8080/",
          "height": 34
        }
      },
      "source": [
        "from google.colab import drive\n",
        "drive.mount('/content/gdrive')"
      ],
      "execution_count": 0,
      "outputs": [
        {
          "output_type": "stream",
          "text": [
            "Drive already mounted at /content/gdrive; to attempt to forcibly remount, call drive.mount(\"/content/gdrive\", force_remount=True).\n"
          ],
          "name": "stdout"
        }
      ]
    },
    {
      "cell_type": "code",
      "metadata": {
        "id": "rRXTHj0Gdg1b",
        "colab_type": "code",
        "outputId": "360ff999-e905-40c8-863a-ea754da0aad7",
        "colab": {
          "base_uri": "https://localhost:8080/",
          "height": 1861
        }
      },
      "source": [
        "import tensorflow as tf\n",
        "\n",
        "from tensorflow.keras.models import Sequential\n",
        "from tensorflow.keras.layers import Dense\n",
        "\n",
        "from tensorflow.keras.applications.vgg16 import VGG16\n",
        "\n",
        "vgg = VGG16()\n",
        "model = Sequential()\n",
        "\n",
        "\n",
        "for i in vgg.layers:\n",
        "    model.add(i)\n",
        "\n",
        "model.summary()\n",
        "\n",
        "for i in model.layers:\n",
        "    i.trainable = False\n",
        "\n",
        "model.pop()\n",
        "model.add(Dense(3, activation='softmax'))\n",
        "\n",
        "model.summary()\n",
        "\n",
        "import cv2\n",
        "\n",
        "\n",
        "class SimplePreprocessor:\n",
        "    # Method: Constructor\n",
        "    def __init__(self, width, height, inter=cv2.INTER_AREA):\n",
        "        \"\"\"\n",
        "        :param width: Image width\n",
        "        :param height: Image height\n",
        "        :param interpolation: Interpolation algorithm\n",
        "        \"\"\"\n",
        "        self.width = width\n",
        "        self.height = height\n",
        "        self.inter = inter\n",
        "        \n",
        "    # Method: Used to resize the image to a fixed size (ignoring the aspect ratio)\n",
        "    def preprocess(self, image):\n",
        "        \"\"\"\n",
        "        :param image: Image\n",
        "        :return: Re-sized image\n",
        "        \"\"\"\n",
        "        return cv2.resize(image, (self.width, self.height), interpolation = self.inter)\n",
        "\n",
        "import os\n",
        "import numpy as np\n",
        "import cv2\n",
        "\n",
        "\n",
        "class SimpleDatasetLoader:\n",
        "\n",
        "    def __init__(self, preprocessors = None):\n",
        "        self.preprocessors = preprocessors\n",
        "\n",
        "        if preprocessors is None:\n",
        "            self.preprocessors = []\n",
        "\n",
        "    \n",
        "    def load(self, imgpaths, verbose = -1):\n",
        "        data=[]\n",
        "        labels=[]\n",
        "\n",
        "\n",
        "        for (i, imgpath) in enumerate(imgpaths):\n",
        "            image = cv2.imread(imgpath)\n",
        "            label = imgpath.split(os.path.sep)[-2]\n",
        "\n",
        "            if self.preprocessors is not None:\n",
        "                for p in self.preprocessors:\n",
        "                    image = p.preprocess(image)\n",
        "\n",
        "            data.append(image)\n",
        "            labels.append(label)\n",
        "\n",
        "\n",
        "            if verbose > 0 and i > 0 and (i + 1) % verbose == 0:\n",
        "                print(\"[INFO] processed {}/{}\".format(i + 1, len(imgpaths)))\n",
        "\n",
        "        \n",
        "        return (np.array(data),np.array(labels))"
      ],
      "execution_count": 0,
      "outputs": [
        {
          "output_type": "stream",
          "text": [
            "WARNING:tensorflow:From /usr/local/lib/python3.6/dist-packages/tensorflow/python/ops/resource_variable_ops.py:435: colocate_with (from tensorflow.python.framework.ops) is deprecated and will be removed in a future version.\n",
            "Instructions for updating:\n",
            "Colocations handled automatically by placer.\n",
            "_________________________________________________________________\n",
            "Layer (type)                 Output Shape              Param #   \n",
            "=================================================================\n",
            "block1_conv1 (Conv2D)        (None, 224, 224, 64)      1792      \n",
            "_________________________________________________________________\n",
            "block1_conv2 (Conv2D)        (None, 224, 224, 64)      36928     \n",
            "_________________________________________________________________\n",
            "block1_pool (MaxPooling2D)   (None, 112, 112, 64)      0         \n",
            "_________________________________________________________________\n",
            "block2_conv1 (Conv2D)        (None, 112, 112, 128)     73856     \n",
            "_________________________________________________________________\n",
            "block2_conv2 (Conv2D)        (None, 112, 112, 128)     147584    \n",
            "_________________________________________________________________\n",
            "block2_pool (MaxPooling2D)   (None, 56, 56, 128)       0         \n",
            "_________________________________________________________________\n",
            "block3_conv1 (Conv2D)        (None, 56, 56, 256)       295168    \n",
            "_________________________________________________________________\n",
            "block3_conv2 (Conv2D)        (None, 56, 56, 256)       590080    \n",
            "_________________________________________________________________\n",
            "block3_conv3 (Conv2D)        (None, 56, 56, 256)       590080    \n",
            "_________________________________________________________________\n",
            "block3_pool (MaxPooling2D)   (None, 28, 28, 256)       0         \n",
            "_________________________________________________________________\n",
            "block4_conv1 (Conv2D)        (None, 28, 28, 512)       1180160   \n",
            "_________________________________________________________________\n",
            "block4_conv2 (Conv2D)        (None, 28, 28, 512)       2359808   \n",
            "_________________________________________________________________\n",
            "block4_conv3 (Conv2D)        (None, 28, 28, 512)       2359808   \n",
            "_________________________________________________________________\n",
            "block4_pool (MaxPooling2D)   (None, 14, 14, 512)       0         \n",
            "_________________________________________________________________\n",
            "block5_conv1 (Conv2D)        (None, 14, 14, 512)       2359808   \n",
            "_________________________________________________________________\n",
            "block5_conv2 (Conv2D)        (None, 14, 14, 512)       2359808   \n",
            "_________________________________________________________________\n",
            "block5_conv3 (Conv2D)        (None, 14, 14, 512)       2359808   \n",
            "_________________________________________________________________\n",
            "block5_pool (MaxPooling2D)   (None, 7, 7, 512)         0         \n",
            "_________________________________________________________________\n",
            "flatten (Flatten)            (None, 25088)             0         \n",
            "_________________________________________________________________\n",
            "fc1 (Dense)                  (None, 4096)              102764544 \n",
            "_________________________________________________________________\n",
            "fc2 (Dense)                  (None, 4096)              16781312  \n",
            "_________________________________________________________________\n",
            "predictions (Dense)          (None, 1000)              4097000   \n",
            "=================================================================\n",
            "Total params: 138,357,544\n",
            "Trainable params: 138,357,544\n",
            "Non-trainable params: 0\n",
            "_________________________________________________________________\n",
            "_________________________________________________________________\n",
            "Layer (type)                 Output Shape              Param #   \n",
            "=================================================================\n",
            "block1_conv1 (Conv2D)        (None, 224, 224, 64)      1792      \n",
            "_________________________________________________________________\n",
            "block1_conv2 (Conv2D)        (None, 224, 224, 64)      36928     \n",
            "_________________________________________________________________\n",
            "block1_pool (MaxPooling2D)   (None, 112, 112, 64)      0         \n",
            "_________________________________________________________________\n",
            "block2_conv1 (Conv2D)        (None, 112, 112, 128)     73856     \n",
            "_________________________________________________________________\n",
            "block2_conv2 (Conv2D)        (None, 112, 112, 128)     147584    \n",
            "_________________________________________________________________\n",
            "block2_pool (MaxPooling2D)   (None, 56, 56, 128)       0         \n",
            "_________________________________________________________________\n",
            "block3_conv1 (Conv2D)        (None, 56, 56, 256)       295168    \n",
            "_________________________________________________________________\n",
            "block3_conv2 (Conv2D)        (None, 56, 56, 256)       590080    \n",
            "_________________________________________________________________\n",
            "block3_conv3 (Conv2D)        (None, 56, 56, 256)       590080    \n",
            "_________________________________________________________________\n",
            "block3_pool (MaxPooling2D)   (None, 28, 28, 256)       0         \n",
            "_________________________________________________________________\n",
            "block4_conv1 (Conv2D)        (None, 28, 28, 512)       1180160   \n",
            "_________________________________________________________________\n",
            "block4_conv2 (Conv2D)        (None, 28, 28, 512)       2359808   \n",
            "_________________________________________________________________\n",
            "block4_conv3 (Conv2D)        (None, 28, 28, 512)       2359808   \n",
            "_________________________________________________________________\n",
            "block4_pool (MaxPooling2D)   (None, 14, 14, 512)       0         \n",
            "_________________________________________________________________\n",
            "block5_conv1 (Conv2D)        (None, 14, 14, 512)       2359808   \n",
            "_________________________________________________________________\n",
            "block5_conv2 (Conv2D)        (None, 14, 14, 512)       2359808   \n",
            "_________________________________________________________________\n",
            "block5_conv3 (Conv2D)        (None, 14, 14, 512)       2359808   \n",
            "_________________________________________________________________\n",
            "block5_pool (MaxPooling2D)   (None, 7, 7, 512)         0         \n",
            "_________________________________________________________________\n",
            "flatten (Flatten)            (None, 25088)             0         \n",
            "_________________________________________________________________\n",
            "fc1 (Dense)                  (None, 4096)              102764544 \n",
            "_________________________________________________________________\n",
            "fc2 (Dense)                  (None, 4096)              16781312  \n",
            "_________________________________________________________________\n",
            "dense (Dense)                (None, 3)                 12291     \n",
            "=================================================================\n",
            "Total params: 134,272,835\n",
            "Trainable params: 12,291\n",
            "Non-trainable params: 134,260,544\n",
            "_________________________________________________________________\n"
          ],
          "name": "stdout"
        }
      ]
    },
    {
      "cell_type": "code",
      "metadata": {
        "id": "3R6u_Lu6drCR",
        "colab_type": "code",
        "colab": {}
      },
      "source": [
        "data = np.load('/content/gdrive/My Drive/data.npy')"
      ],
      "execution_count": 0,
      "outputs": []
    },
    {
      "cell_type": "code",
      "metadata": {
        "id": "FzVjTauMd16e",
        "colab_type": "code",
        "colab": {}
      },
      "source": [
        "target = np.load('/content/gdrive/My Drive/target.npy')"
      ],
      "execution_count": 0,
      "outputs": []
    },
    {
      "cell_type": "code",
      "metadata": {
        "id": "9kmGWhyUeAxf",
        "colab_type": "code",
        "colab": {}
      },
      "source": [
        "model.compile(optimizer='adam', loss='categorical_crossentropy', metrics=['accuracy'])"
      ],
      "execution_count": 0,
      "outputs": []
    },
    {
      "cell_type": "code",
      "metadata": {
        "id": "h9qwbYVIeFKT",
        "colab_type": "code",
        "colab": {}
      },
      "source": [
        "from sklearn.model_selection import train_test_split\n",
        "(train_x, test_x, train_y, test_y) = train_test_split(data, target, test_size=0.25, random_state=42)"
      ],
      "execution_count": 0,
      "outputs": []
    },
    {
      "cell_type": "code",
      "metadata": {
        "id": "S9G_WYBreIq_",
        "colab_type": "code",
        "outputId": "5b16bd03-6275-43b5-d80a-db1ed4e717ec",
        "colab": {
          "base_uri": "https://localhost:8080/",
          "height": 454
        }
      },
      "source": [
        "model.fit(train_x, train_y, epochs = 10)"
      ],
      "execution_count": 0,
      "outputs": [
        {
          "output_type": "stream",
          "text": [
            "WARNING:tensorflow:From /usr/local/lib/python3.6/dist-packages/tensorflow/python/ops/math_ops.py:3066: to_int32 (from tensorflow.python.ops.math_ops) is deprecated and will be removed in a future version.\n",
            "Instructions for updating:\n",
            "Use tf.cast instead.\n",
            "Epoch 1/10\n",
            "2250/2250 [==============================] - 29s 13ms/sample - loss: 0.1887 - acc: 0.9444\n",
            "Epoch 2/10\n",
            "2250/2250 [==============================] - 22s 10ms/sample - loss: 0.0334 - acc: 0.9871\n",
            "Epoch 3/10\n",
            "2250/2250 [==============================] - 22s 10ms/sample - loss: 0.0101 - acc: 0.9978\n",
            "Epoch 4/10\n",
            "2250/2250 [==============================] - 22s 10ms/sample - loss: 0.0037 - acc: 0.9996\n",
            "Epoch 5/10\n",
            "2250/2250 [==============================] - 22s 10ms/sample - loss: 0.0021 - acc: 1.0000\n",
            "Epoch 6/10\n",
            "2250/2250 [==============================] - 22s 10ms/sample - loss: 0.0016 - acc: 1.0000\n",
            "Epoch 7/10\n",
            "2250/2250 [==============================] - 22s 10ms/sample - loss: 0.0012 - acc: 1.0000\n",
            "Epoch 8/10\n",
            "2250/2250 [==============================] - 22s 10ms/sample - loss: 0.0010 - acc: 1.0000\n",
            "Epoch 9/10\n",
            "2250/2250 [==============================] - 22s 10ms/sample - loss: 9.2165e-04 - acc: 1.0000\n",
            "Epoch 10/10\n",
            "2250/2250 [==============================] - 22s 10ms/sample - loss: 7.7548e-04 - acc: 1.0000\n"
          ],
          "name": "stdout"
        },
        {
          "output_type": "execute_result",
          "data": {
            "text/plain": [
              "<tensorflow.python.keras.callbacks.History at 0x7fac268e39b0>"
            ]
          },
          "metadata": {
            "tags": []
          },
          "execution_count": 8
        }
      ]
    },
    {
      "cell_type": "code",
      "metadata": {
        "id": "2uiTQkXleK5U",
        "colab_type": "code",
        "outputId": "1440b7ae-b7fb-4542-f112-9c81c3e27b36",
        "colab": {
          "base_uri": "https://localhost:8080/",
          "height": 34
        }
      },
      "source": [
        "loss = model.evaluate(test_x, test_y)"
      ],
      "execution_count": 0,
      "outputs": [
        {
          "output_type": "stream",
          "text": [
            "750/750 [==============================] - 9s 12ms/sample - loss: 0.0851 - acc: 0.9800\n"
          ],
          "name": "stdout"
        }
      ]
    },
    {
      "cell_type": "code",
      "metadata": {
        "id": "Myl2lqIdfINh",
        "colab_type": "code",
        "outputId": "5c9f486c-9819-48f1-d724-b83b09a8afad",
        "colab": {
          "base_uri": "https://localhost:8080/",
          "height": 34
        }
      },
      "source": [
        "loss[1]"
      ],
      "execution_count": 0,
      "outputs": [
        {
          "output_type": "execute_result",
          "data": {
            "text/plain": [
              "0.98"
            ]
          },
          "metadata": {
            "tags": []
          },
          "execution_count": 10
        }
      ]
    },
    {
      "cell_type": "code",
      "metadata": {
        "id": "MmDQyw_KfL4B",
        "colab_type": "code",
        "outputId": "d12d7338-f1d6-4d25-badb-e6012ac764fb",
        "colab": {
          "base_uri": "https://localhost:8080/",
          "height": 34
        }
      },
      "source": [
        "loss[0]"
      ],
      "execution_count": 0,
      "outputs": [
        {
          "output_type": "execute_result",
          "data": {
            "text/plain": [
              "0.08510386359551922"
            ]
          },
          "metadata": {
            "tags": []
          },
          "execution_count": 11
        }
      ]
    },
    {
      "cell_type": "code",
      "metadata": {
        "id": "9RNt2p3cfM-0",
        "colab_type": "code",
        "outputId": "a56b851a-74d6-47cd-f7bb-85c2275f0cc9",
        "colab": {
          "base_uri": "https://localhost:8080/",
          "height": 503
        }
      },
      "source": [
        "!pip install -U -q PyDrive\n",
        "from pydrive.auth import GoogleAuth\n",
        "from pydrive.drive import GoogleDrive\n",
        "from google.colab import auth\n",
        "from oauth2client.client import GoogleCredentials\n",
        "\n",
        "# 1. Authenticate and create the PyDrive client.\n",
        "auth.authenticate_user()\n",
        "gauth = GoogleAuth()\n",
        "gauth.credentials = GoogleCredentials.get_application_default()\n",
        "drive = GoogleDrive(gauth)\n",
        "\n",
        "# 2. Save Keras Model or weights on google drive\n",
        "\n",
        "# create on Colab directory\n",
        "model.save('model.h5')    \n",
        "model_file = drive.CreateFile({'title' : 'model.h5'})\n",
        "model_file.SetContentFile('model.h5')\n",
        "model_file.Upload()\n",
        "\n",
        "# download to google drive\n",
        "drive.CreateFile({'id': model_file.get('id')})\n",
        "\n"
      ],
      "execution_count": 0,
      "outputs": [
        {
          "output_type": "stream",
          "text": [
            "\u001b[?25l\r\u001b[K     |▎                               | 10kB 20.8MB/s eta 0:00:01\r\u001b[K     |▋                               | 20kB 4.5MB/s eta 0:00:01\r\u001b[K     |█                               | 30kB 6.5MB/s eta 0:00:01\r\u001b[K     |█▎                              | 40kB 4.1MB/s eta 0:00:01\r\u001b[K     |█▋                              | 51kB 5.0MB/s eta 0:00:01\r\u001b[K     |██                              | 61kB 5.9MB/s eta 0:00:01\r\u001b[K     |██▎                             | 71kB 6.8MB/s eta 0:00:01\r\u001b[K     |██▋                             | 81kB 7.6MB/s eta 0:00:01\r\u001b[K     |███                             | 92kB 8.4MB/s eta 0:00:01\r\u001b[K     |███▎                            | 102kB 6.7MB/s eta 0:00:01\r\u001b[K     |███▋                            | 112kB 6.7MB/s eta 0:00:01\r\u001b[K     |████                            | 122kB 6.7MB/s eta 0:00:01\r\u001b[K     |████▎                           | 133kB 6.7MB/s eta 0:00:01\r\u001b[K     |████▋                           | 143kB 6.7MB/s eta 0:00:01\r\u001b[K     |█████                           | 153kB 6.7MB/s eta 0:00:01\r\u001b[K     |█████▎                          | 163kB 6.7MB/s eta 0:00:01\r\u001b[K     |█████▋                          | 174kB 6.7MB/s eta 0:00:01\r\u001b[K     |██████                          | 184kB 6.7MB/s eta 0:00:01\r\u001b[K     |██████▎                         | 194kB 6.7MB/s eta 0:00:01\r\u001b[K     |██████▋                         | 204kB 6.7MB/s eta 0:00:01\r\u001b[K     |███████                         | 215kB 6.7MB/s eta 0:00:01\r\u001b[K     |███████▎                        | 225kB 6.7MB/s eta 0:00:01\r\u001b[K     |███████▋                        | 235kB 6.7MB/s eta 0:00:01\r\u001b[K     |████████                        | 245kB 6.7MB/s eta 0:00:01\r\u001b[K     |████████▎                       | 256kB 6.7MB/s eta 0:00:01\r\u001b[K     |████████▋                       | 266kB 6.7MB/s eta 0:00:01\r\u001b[K     |█████████                       | 276kB 6.7MB/s eta 0:00:01\r\u001b[K     |█████████▎                      | 286kB 6.7MB/s eta 0:00:01\r\u001b[K     |█████████▋                      | 296kB 6.7MB/s eta 0:00:01\r\u001b[K     |██████████                      | 307kB 6.7MB/s eta 0:00:01\r\u001b[K     |██████████▎                     | 317kB 6.7MB/s eta 0:00:01\r\u001b[K     |██████████▋                     | 327kB 6.7MB/s eta 0:00:01\r\u001b[K     |███████████                     | 337kB 6.7MB/s eta 0:00:01\r\u001b[K     |███████████▎                    | 348kB 6.7MB/s eta 0:00:01\r\u001b[K     |███████████▋                    | 358kB 6.7MB/s eta 0:00:01\r\u001b[K     |████████████                    | 368kB 6.7MB/s eta 0:00:01\r\u001b[K     |████████████▎                   | 378kB 6.7MB/s eta 0:00:01\r\u001b[K     |████████████▋                   | 389kB 6.7MB/s eta 0:00:01\r\u001b[K     |█████████████                   | 399kB 6.7MB/s eta 0:00:01\r\u001b[K     |█████████████▎                  | 409kB 6.7MB/s eta 0:00:01\r\u001b[K     |█████████████▋                  | 419kB 6.7MB/s eta 0:00:01\r\u001b[K     |██████████████                  | 430kB 6.7MB/s eta 0:00:01\r\u001b[K     |██████████████▎                 | 440kB 6.7MB/s eta 0:00:01\r\u001b[K     |██████████████▋                 | 450kB 6.7MB/s eta 0:00:01\r\u001b[K     |███████████████                 | 460kB 6.7MB/s eta 0:00:01\r\u001b[K     |███████████████▎                | 471kB 6.7MB/s eta 0:00:01\r\u001b[K     |███████████████▋                | 481kB 6.7MB/s eta 0:00:01\r\u001b[K     |████████████████                | 491kB 6.7MB/s eta 0:00:01\r\u001b[K     |████████████████▎               | 501kB 6.7MB/s eta 0:00:01\r\u001b[K     |████████████████▋               | 512kB 6.7MB/s eta 0:00:01\r\u001b[K     |█████████████████               | 522kB 6.7MB/s eta 0:00:01\r\u001b[K     |█████████████████▎              | 532kB 6.7MB/s eta 0:00:01\r\u001b[K     |█████████████████▋              | 542kB 6.7MB/s eta 0:00:01\r\u001b[K     |██████████████████              | 552kB 6.7MB/s eta 0:00:01\r\u001b[K     |██████████████████▎             | 563kB 6.7MB/s eta 0:00:01\r\u001b[K     |██████████████████▋             | 573kB 6.7MB/s eta 0:00:01\r\u001b[K     |███████████████████             | 583kB 6.7MB/s eta 0:00:01\r\u001b[K     |███████████████████▎            | 593kB 6.7MB/s eta 0:00:01\r\u001b[K     |███████████████████▋            | 604kB 6.7MB/s eta 0:00:01\r\u001b[K     |████████████████████            | 614kB 6.7MB/s eta 0:00:01\r\u001b[K     |████████████████████▎           | 624kB 6.7MB/s eta 0:00:01\r\u001b[K     |████████████████████▋           | 634kB 6.7MB/s eta 0:00:01\r\u001b[K     |█████████████████████           | 645kB 6.7MB/s eta 0:00:01\r\u001b[K     |█████████████████████▎          | 655kB 6.7MB/s eta 0:00:01\r\u001b[K     |█████████████████████▋          | 665kB 6.7MB/s eta 0:00:01\r\u001b[K     |██████████████████████          | 675kB 6.7MB/s eta 0:00:01\r\u001b[K     |██████████████████████▎         | 686kB 6.7MB/s eta 0:00:01\r\u001b[K     |██████████████████████▋         | 696kB 6.7MB/s eta 0:00:01\r\u001b[K     |███████████████████████         | 706kB 6.7MB/s eta 0:00:01\r\u001b[K     |███████████████████████▎        | 716kB 6.7MB/s eta 0:00:01\r\u001b[K     |███████████████████████▋        | 727kB 6.7MB/s eta 0:00:01\r\u001b[K     |████████████████████████        | 737kB 6.7MB/s eta 0:00:01\r\u001b[K     |████████████████████████▎       | 747kB 6.7MB/s eta 0:00:01\r\u001b[K     |████████████████████████▋       | 757kB 6.7MB/s eta 0:00:01\r\u001b[K     |████████████████████████▉       | 768kB 6.7MB/s eta 0:00:01\r\u001b[K     |█████████████████████████▏      | 778kB 6.7MB/s eta 0:00:01\r\u001b[K     |█████████████████████████▌      | 788kB 6.7MB/s eta 0:00:01\r\u001b[K     |█████████████████████████▉      | 798kB 6.7MB/s eta 0:00:01\r\u001b[K     |██████████████████████████▏     | 808kB 6.7MB/s eta 0:00:01\r\u001b[K     |██████████████████████████▌     | 819kB 6.7MB/s eta 0:00:01\r\u001b[K     |██████████████████████████▉     | 829kB 6.7MB/s eta 0:00:01\r\u001b[K     |███████████████████████████▏    | 839kB 6.7MB/s eta 0:00:01\r\u001b[K     |███████████████████████████▌    | 849kB 6.7MB/s eta 0:00:01\r\u001b[K     |███████████████████████████▉    | 860kB 6.7MB/s eta 0:00:01\r\u001b[K     |████████████████████████████▏   | 870kB 6.7MB/s eta 0:00:01\r\u001b[K     |████████████████████████████▌   | 880kB 6.7MB/s eta 0:00:01\r\u001b[K     |████████████████████████████▉   | 890kB 6.7MB/s eta 0:00:01\r\u001b[K     |█████████████████████████████▏  | 901kB 6.7MB/s eta 0:00:01\r\u001b[K     |█████████████████████████████▌  | 911kB 6.7MB/s eta 0:00:01\r\u001b[K     |█████████████████████████████▉  | 921kB 6.7MB/s eta 0:00:01\r\u001b[K     |██████████████████████████████▏ | 931kB 6.7MB/s eta 0:00:01\r\u001b[K     |██████████████████████████████▌ | 942kB 6.7MB/s eta 0:00:01\r\u001b[K     |██████████████████████████████▉ | 952kB 6.7MB/s eta 0:00:01\r\u001b[K     |███████████████████████████████▏| 962kB 6.7MB/s eta 0:00:01\r\u001b[K     |███████████████████████████████▌| 972kB 6.7MB/s eta 0:00:01\r\u001b[K     |███████████████████████████████▉| 983kB 6.7MB/s eta 0:00:01\r\u001b[K     |████████████████████████████████| 993kB 6.7MB/s \n",
            "\u001b[?25h  Building wheel for PyDrive (setup.py) ... \u001b[?25l\u001b[?25hdone\n"
          ],
          "name": "stdout"
        },
        {
          "output_type": "stream",
          "text": [
            "----------------------------------------\n",
            "Exception happened during processing of request from ('::ffff:127.0.0.1', 41274, 0, 0)\n",
            "Traceback (most recent call last):\n",
            "  File \"/usr/lib/python3.6/socketserver.py\", line 317, in _handle_request_noblock\n",
            "    self.process_request(request, client_address)\n",
            "  File \"/usr/lib/python3.6/socketserver.py\", line 348, in process_request\n",
            "    self.finish_request(request, client_address)\n",
            "  File \"/usr/lib/python3.6/socketserver.py\", line 361, in finish_request\n",
            "    self.RequestHandlerClass(request, client_address, self)\n",
            "  File \"/usr/lib/python3.6/socketserver.py\", line 721, in __init__\n",
            "    self.handle()\n",
            "  File \"/usr/lib/python3.6/http/server.py\", line 418, in handle\n",
            "    self.handle_one_request()\n",
            "  File \"/usr/lib/python3.6/http/server.py\", line 406, in handle_one_request\n",
            "    method()\n",
            "  File \"/usr/lib/python3.6/http/server.py\", line 639, in do_GET\n",
            "    self.copyfile(f, self.wfile)\n",
            "  File \"/usr/lib/python3.6/http/server.py\", line 800, in copyfile\n",
            "    shutil.copyfileobj(source, outputfile)\n",
            "  File \"/usr/lib/python3.6/shutil.py\", line 82, in copyfileobj\n",
            "    fdst.write(buf)\n",
            "  File \"/usr/lib/python3.6/socketserver.py\", line 800, in write\n",
            "    self._sock.sendall(b)\n",
            "ConnectionResetError: [Errno 104] Connection reset by peer\n",
            "----------------------------------------\n"
          ],
          "name": "stderr"
        },
        {
          "output_type": "execute_result",
          "data": {
            "text/plain": [
              "GoogleDriveFile({'id': '1UpIHtWbJxPNBI_nFF9ZqalTyo-orCAbu'})"
            ]
          },
          "metadata": {
            "tags": []
          },
          "execution_count": 15
        }
      ]
    },
    {
      "cell_type": "code",
      "metadata": {
        "id": "Zd2KeiHJfrc9",
        "colab_type": "code",
        "colab": {}
      },
      "source": [
        ""
      ],
      "execution_count": 0,
      "outputs": []
    }
  ]
}